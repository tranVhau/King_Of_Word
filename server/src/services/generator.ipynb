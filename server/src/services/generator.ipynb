{
 "cells": [
  {
   "cell_type": "code",
   "execution_count": 1,
   "metadata": {},
   "outputs": [
    {
     "name": "stdout",
     "output_type": "stream",
     "text": [
      "[ObjectId('64bd71cdf99839e970add7dc'), ObjectId('64bd7261f99839e970add7df'), ObjectId('64bd7299f99839e970add7e2'), ObjectId('64bd72d4f99839e970add7e5'), ObjectId('64bd7300f99839e970add7e8'), ObjectId('64bd7333f99839e970add7eb'), ObjectId('64bd7365f99839e970add7ee'), ObjectId('64bd738df99839e970add7f1'), ObjectId('64bd73abf99839e970add7f4'), ObjectId('64bd73c3f99839e970add7f7'), ObjectId('64bd7403f99839e970add7fa'), ObjectId('64bd81ecb7a04967976e40d3'), ObjectId('64bd8252b7a04967976e40d9'), ObjectId('64bd8306b7a04967976e40df'), ObjectId('64bd8333b7a04967976e40e2'), ObjectId('64be35a3654cf1b07dd2faa4')]\n"
     ]
    }
   ],
   "source": [
    "import random\n",
    "import string\n",
    "from pymongo import MongoClient\n",
    "from dummy import arr\n",
    "\n",
    "\n",
    "MONGODB_URI = \"mongodb://localhost:27017\"\n",
    "DB_NAME = \"KNGofWRD\"\n",
    "COLLECTION_NAME = \"collections\"\n",
    "\n",
    "\n",
    "client = MongoClient(MONGODB_URI)\n",
    "db = client[DB_NAME]\n",
    "collection = db[COLLECTION_NAME]\n",
    "flashcard = db['flashcards']\n",
    "front_back_arr = arr()\n",
    "\n",
    "cursor = collection.find()\n",
    "collectionIDArr = []\n",
    "\n",
    "for document in cursor:\n",
    "    collectionIDArr.append(document['_id'])\n",
    "\n",
    "# collectionIDArr = collectionIDArr[:6]\n",
    "\n",
    "print(collectionIDArr)\n",
    "\n",
    "\n",
    "\n",
    "def insert_data(num_records, col):\n",
    "    count = 0\n",
    "    for word in front_back_arr:\n",
    "        front, back = word.values()\n",
    "        flashcard.insert_one({'collectionID': col, 'front':front,'back': back })\n",
    "        count+=1\n",
    "        if count== num_records:\n",
    "            del front_back_arr[:num_records]\n",
    "            break\n",
    "\n",
    "    \n",
    "\n",
    "\n",
    "def run():\n",
    "    for col in collectionIDArr:\n",
    "        num_records = random.randint(10, 12)\n",
    "        insert_data(num_records, col)\n",
    "\n",
    "\n",
    "run()      \n",
    "        \n",
    "\n",
    "\n",
    "\n",
    "\n",
    "\n"
   ]
  }
 ],
 "metadata": {
  "kernelspec": {
   "display_name": "Python 3",
   "language": "python",
   "name": "python3"
  },
  "language_info": {
   "codemirror_mode": {
    "name": "ipython",
    "version": 3
   },
   "file_extension": ".py",
   "mimetype": "text/x-python",
   "name": "python",
   "nbconvert_exporter": "python",
   "pygments_lexer": "ipython3",
   "version": "3.10.4"
  },
  "orig_nbformat": 4
 },
 "nbformat": 4,
 "nbformat_minor": 2
}
